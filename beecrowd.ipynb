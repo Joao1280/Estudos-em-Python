{
 "cells": [
  {
   "cell_type": "code",
   "execution_count": 1,
   "metadata": {},
   "outputs": [
    {
     "name": "stdout",
     "output_type": "stream",
     "text": [
      "A= 12.5664\n"
     ]
    }
   ],
   "source": [
    "# A fórmula para calcular a área de uma circunferência é: area = π . raio2. Considerando para este problema que π = 3.14159:\n",
    "\n",
    "# Efetue o cálculo da área, elevando o valor de raio ao quadrado e multiplicando por π.\n",
    "\n",
    "#Entrada\n",
    "#A entrada contém um valor de ponto flutuante (dupla precisão), no caso, a variável raio.\n",
    "\n",
    "#Saída\n",
    "#Apresentar a mensagem \"A=\" seguido pelo valor da variável area, conforme exemplo abaixo, com 4 casas após o ponto decimal. \n",
    "# Utilize variáveis de dupla precisão (double). Como todos os problemas, não esqueça de imprimir o fim de linha após o resultado, caso contrário, você receberá \"Presentation Error\".\n",
    "\n",
    "\n",
    "\n",
    "\n",
    "R = float(input())\n",
    "\n",
    "A = 3.14159 * R**2\n",
    "\n",
    "print(f\"A={A: .4f}\")\n",
    "\n",
    "\n",
    "print(f\"A={A:.4f}\")\n",
    "\n"
   ]
  },
  {
   "cell_type": "code",
   "execution_count": 3,
   "metadata": {},
   "outputs": [
    {
     "name": "stdout",
     "output_type": "stream",
     "text": [
      "SOMA = 40\n"
     ]
    }
   ],
   "source": [
    "# Leia dois valores inteiros, no caso para variáveis A e B. A seguir, calcule a soma entre elas e atribua à variável SOMA. A seguir escrever o valor desta variável.\n",
    "\n",
    "#Entrada\n",
    "#O arquivo de entrada contém 2 valores inteiros.\n",
    "\n",
    "#Saída\n",
    "#Imprima a mensagem \"SOMA\" com todas as letras maiúsculas, com um espaço em branco antes e depois da igualdade seguido pelo valor correspondente à soma de A e B. Como todos os problemas, não esqueça \n",
    "#de imprimir o fim de linha após o resultado, caso contrário, você receberá \"Presentation Error\".\n",
    "\n",
    "\n",
    "A = int(input())\n",
    "B = int(input())\n",
    "\n",
    "SOMA = A + B\n",
    "\n",
    "print(\"SOMA =\", SOMA )\n",
    "\n",
    "\n",
    "\n"
   ]
  },
  {
   "cell_type": "code",
   "execution_count": 4,
   "metadata": {},
   "outputs": [
    {
     "name": "stdout",
     "output_type": "stream",
     "text": [
      "PROD = 27\n"
     ]
    }
   ],
   "source": [
    "#Leia dois valores inteiros. A seguir, calcule o produto entre estes dois valores e atribua esta operação à variável PROD. A seguir mostre a variável PROD com mensagem correspondente.   \n",
    "\n",
    "#Entrada\n",
    "#O arquivo de entrada contém 2 valores inteiros.\n",
    "\n",
    "#Saída\n",
    "#Imprima a mensagem \"PROD\" e a variável PROD conforme exemplo abaixo, com um espaço em branco antes e depois da igualdade. Não esqueça de imprimir o fim de linha após o produto, caso contrário seu programa apresentará a mensagem: “Presentation Error”.\n",
    "\n",
    "\n",
    "\n",
    "A = int(input())\n",
    "B = int(input())\n",
    "\n",
    "PROD = A * B\n",
    "\n",
    "print(\"PROD =\", PROD )\n"
   ]
  },
  {
   "cell_type": "code",
   "execution_count": 6,
   "metadata": {},
   "outputs": [
    {
     "name": "stdout",
     "output_type": "stream",
     "text": [
      "MEDIA = 6.43182\n"
     ]
    }
   ],
   "source": [
    "#Leia 2 valores de ponto flutuante de dupla precisão A e B, que correspondem a 2 notas de um aluno. A seguir, calcule a média do aluno, sabendo que a nota A tem peso 3.5 e a nota B tem peso 7.5 (A soma dos pesos portanto é 11). Assuma que cada nota pode ir de 0 até 10.0, sempre com uma casa decimal.\n",
    "\n",
    "#Entrada\n",
    "#O arquivo de entrada contém 2 valores com uma casa decimal cada um.\n",
    "\n",
    "#Saída\n",
    "#Imprima a mensagem \"MEDIA\" e a média do aluno conforme exemplo abaixo, com 5 dígitos após o ponto decimal e com um espaço em branco antes e depois da igualdade. Utilize variáveis de dupla precisão (double) e como todos os problemas, não esqueça de imprimir o fim de linha após o resultado, caso contrário, você receberá \"Presentation Error\".\n",
    "\n",
    "\n",
    "\n",
    "A = float(input())\n",
    "B = float(input())\n",
    "\n",
    "\n",
    "\n",
    "\n",
    "MEDIA = (A*3.5 + B*7.5) / 11\n",
    "\n",
    "\n",
    "print(f\"MEDIA = {MEDIA:.5f}\")\n"
   ]
  },
  {
   "cell_type": "code",
   "execution_count": 2,
   "metadata": {},
   "outputs": [
    {
     "name": "stdout",
     "output_type": "stream",
     "text": [
      "DIFERENCA = -26\n"
     ]
    }
   ],
   "source": [
    "#Leia quatro valores inteiros A, B, C e D. A seguir, calcule e mostre a diferença do produto de A e B pelo produto de C e D segundo a fórmula: DIFERENCA = (A * B - C * D).\n",
    "\n",
    "#Entrada\n",
    "#O arquivo de entrada contém 4 valores inteiros.\n",
    "\n",
    "#Saída\n",
    "#Imprima a mensagem DIFERENCA com todas as letras maiúsculas, conforme exemplo abaixo, com um espaço em branco antes e depois da igualdade.\n",
    "\n",
    "\n",
    "A = int(input())\n",
    "B = int(input())\n",
    "C = int(input())\n",
    "D = int(input())\n",
    "\n",
    "DIFERENCA = (A*B - C*D)\n",
    "\n",
    "print(f\"DIFERENCA = {DIFERENCA}\")\n"
   ]
  },
  {
   "cell_type": "code",
   "execution_count": 6,
   "metadata": {},
   "outputs": [
    {
     "name": "stdout",
     "output_type": "stream",
     "text": [
      "NUMBER = 6\n",
      "SALARY = U$  3100.00\n"
     ]
    }
   ],
   "source": [
    "#Escreva um programa que leia o número de um funcionário, seu número de horas trabalhadas, o valor que recebe por hora e calcula o salário desse funcionário. A seguir, mostre o número e o salário do funcionário, com duas casas decimais.\n",
    "\n",
    "#Entrada\n",
    "#O arquivo de entrada contém 2 números inteiros e 1 número com duas casas decimais, representando o número, quantidade de horas trabalhadas e o valor que o funcionário recebe por hora trabalhada, respectivamente.\n",
    "\n",
    "#Saída\n",
    "#Imprima o número e o salário do funcionário, conforme exemplo fornecido, com um espaço em branco antes e depois da igualdade. No caso do salário, também deve haver um espaço em branco após o $.\n",
    "\n",
    "#number = n do funcionario / HT = horas trabalhadas / VH = valor da hora trabalhada / SALARY = salario\n",
    "NUMBER = int(input())\n",
    "HT = int(input())\n",
    "VH = float(input())\n",
    "\n",
    "SALARY = (HT * VH)\n",
    "\n",
    "print(f\"NUMBER = {NUMBER}\")\n",
    "print(f\"SALARY = U$ {SALARY: .2f}\")\n",
    "\n",
    "\n",
    "\n"
   ]
  },
  {
   "cell_type": "code",
   "execution_count": 11,
   "metadata": {},
   "outputs": [
    {
     "name": "stdout",
     "output_type": "stream",
     "text": [
      "TOTAL = R$ 684.54\n"
     ]
    }
   ],
   "source": [
    "#Faça um programa que leia o nome de um vendedor, o seu salário fixo e o total de vendas efetuadas por ele no mês (em dinheiro). Sabendo que este vendedor ganha 15% de comissão sobre suas vendas efetuadas, informar o total a receber no final do mês, com duas casas decimais.\n",
    "\n",
    "#Entrada\n",
    "#O arquivo de entrada contém um texto (primeiro nome do vendedor) e 2 valores de dupla precisão (double) com duas casas decimais, representando o salário fixo do vendedor e montante total das vendas efetuadas por este vendedor, respectivamente.\n",
    "\n",
    "#Saída\n",
    "#Imprima o total que o funcionário deverá receber, conforme exemplo fornecido.\n",
    "\n",
    "\n",
    "\n",
    "nome = input(\"Digite seu nome: \")\n",
    "salario = float(input(\"Qual seu salário fixo? \"))\n",
    "vendas = float(input(\"Qual seu montante de vendas? \"))\n",
    "\n",
    "TOTAL = (vendas * 0.15) + salario\n",
    "\n",
    "print(f\"TOTAL = R$ {TOTAL:.2f}\")"
   ]
  },
  {
   "cell_type": "code",
   "execution_count": 20,
   "metadata": {},
   "outputs": [
    {
     "name": "stdout",
     "output_type": "stream",
     "text": [
      "VALOR A PAGAR: R$ 61.20\n"
     ]
    }
   ],
   "source": [
    "#Neste problema, deve-se ler o código de uma peça 1, o número de peças 1, o valor unitário de cada peça 1, o código de uma peça 2, o número de peças 2 e o valor unitário de cada peça 2. Após, calcule e mostre o valor a ser pago.\n",
    "\n",
    "#Entrada\n",
    "#O arquivo de entrada contém duas linhas de dados. Em cada linha haverá 3 valores, respectivamente dois inteiros e um valor com 2 casas decimais.\n",
    "\n",
    "#Saída\n",
    "#A saída deverá ser uma mensagem conforme o exemplo fornecido abaixo, lembrando de deixar um espaço após os dois pontos e um espaço após o \"R$\". O valor deverá ser apresentado com 2 casas após o ponto.\n",
    "linha1 = input().split()\n",
    "linha2 = input().split()\n",
    "\n",
    "CODIGO1 = int(linha1[0])\n",
    "N1      = int(linha1[1])\n",
    "VALOR1  = float(linha1[2])\n",
    "\n",
    "CODIGO2 = int(linha2[0])\n",
    "N2      = int(linha2[1])\n",
    "VALOR2  = float(linha2[2])\n",
    "\n",
    "\n",
    "TOTAL1 = N1 * VALOR1\n",
    "TOTAL2 = N2 * VALOR2\n",
    "\n",
    "TOTAL3 = TOTAL1 + TOTAL2\n",
    "\n",
    "print(f\"VALOR A PAGAR: R$ {TOTAL3:.2f}\")"
   ]
  },
  {
   "cell_type": "code",
   "execution_count": 1,
   "metadata": {},
   "outputs": [
    {
     "name": "stdout",
     "output_type": "stream",
     "text": [
      "VOLUME = 113.097\n"
     ]
    }
   ],
   "source": [
    "#Faça um programa que calcule e mostre o volume de uma esfera sendo fornecido o valor de seu raio (R). A fórmula para calcular o volume é: (4/3) * pi * R3. Considere (atribua) para pi o valor 3.14159.#\n",
    "\n",
    "#Dica: Ao utilizar a fórmula, procure usar (4/3.0) ou (4.0/3), pois algumas linguagens (dentre elas o C++), assumem que o resultado da divisão entre dois inteiros é outro inteiro.#\n",
    "\n",
    "#Entrada\n",
    "#O arquivo de entrada contém um valor de ponto flutuante (dupla precisão), correspondente ao raio da esfera.#\n",
    "\n",
    "#Saída\n",
    "#A saída deverá ser uma mensagem \"VOLUME\" conforme o exemplo fornecido abaixo, com um espaço antes e um espaço depois da igualdade. O valor deverá ser apresentado com 3 casas após o ponto.\n",
    "\n",
    "PI = 3.14159 # valor de pi \n",
    "R = float(input()) # raio da esfera\n",
    "V = (4/3.0) * PI * R**3\n",
    "\n",
    "print(f\"VOLUME = {V:.3f}\")"
   ]
  },
  {
   "cell_type": "code",
   "execution_count": 6,
   "metadata": {},
   "outputs": [
    {
     "name": "stdout",
     "output_type": "stream",
     "text": [
      "TRIANGULO: 7.800\n",
      "CIRCULO: 84.949\n",
      "TRAPEZIO: 18.200\n",
      "QUADRADO: 16.000\n",
      "RETANGULO: 12.000\n"
     ]
    }
   ],
   "source": [
    "#Escreva um programa que leia três valores com ponto flutuante de dupla precisão: A, B e C. Em seguida, calcule e mostre:\n",
    "#a) a área do triângulo retângulo que tem A por base e C por altura.\n",
    "#b) a área do círculo de raio C. (pi = 3.14159)\n",
    "#c) a área do trapézio que tem A e B por bases e C por altura.\n",
    "#d) a área do quadrado que tem lado B.\n",
    "#e) a área do retângulo que tem lados A e B.\n",
    "#Entrada\n",
    "#O arquivo de entrada contém três valores com um dígito após o ponto decimal.\n",
    "\n",
    "#Saída\n",
    "#O arquivo de saída deverá conter 5 linhas de dados. Cada linha corresponde a uma das áreas descritas acima, sempre com mensagem correspondente e um espaço entre os dois pontos e o valor. O valor calculado deve ser apresentado com 3 dígitos após o ponto decimal.\n",
    "\n",
    "linha = input().split()\n",
    "\n",
    "PI = 3.14159\n",
    "\n",
    "A = float(linha[0])   #Entrada dos valores.\n",
    "B = float(linha[1])   #Entrada dos valores.\n",
    "C = float(linha[2])   #Entrada dos valores.   \n",
    "\n",
    "\n",
    "\n",
    "\n",
    "\n",
    "TRIANGULO = A * C / 2 # A = (b * h) / 2\n",
    "\n",
    "CIRCULO   = PI * C**2 # A= pi * R**2 \n",
    "\n",
    "TRAPEZIO  =  (A + B) * C /2# A = ((B1 + B2) x h) / 2\n",
    "\n",
    "QUADRADO  = B**2# A = A**2\n",
    "\n",
    "RETANGULO = A * B# A * B\n",
    "\n",
    "\n",
    "print(f\"TRIANGULO: {TRIANGULO:.3f}\")\n",
    "print(f\"CIRCULO: {CIRCULO:.3f}\")\n",
    "print(f\"TRAPEZIO: {TRAPEZIO:.3f}\")\n",
    "print(f\"QUADRADO: {QUADRADO:.3f}\")\n",
    "print(f\"RETANGULO: {RETANGULO:.3f}\")\n",
    "\n",
    "\n"
   ]
  },
  {
   "cell_type": "code",
   "execution_count": 4,
   "metadata": {},
   "outputs": [
    {
     "name": "stdout",
     "output_type": "stream",
     "text": [
      "14 eh o maior\n"
     ]
    }
   ],
   "source": [
    "linha = input().split()\n",
    "\n",
    "A = int(linha[0])\n",
    "B = int(linha[1])\n",
    "C = int(linha[2])\n",
    "\n",
    "\n",
    "MaiorAb = (A + B + abs(A - B)) / 2\n",
    "MaiorAbc =  (MaiorAb + C + abs(MaiorAb - C)) / 2\n",
    "\n",
    "\n",
    "print(f\"{int(MaiorAbc)} eh o maior\") "
   ]
  },
  {
   "cell_type": "code",
   "execution_count": 1,
   "metadata": {},
   "outputs": [
    {
     "name": "stdout",
     "output_type": "stream",
     "text": [
      "14.286 km/l\n"
     ]
    }
   ],
   "source": [
    "# Calcule o consumo médio de um automóvel sendo fornecidos a distância total percorrida (em Km) e o total de combustível gasto (em litros).\n",
    "\n",
    "# Entrada\n",
    "# O arquivo de entrada contém dois valores: um valor inteiro X representando a distância total percorrida (em Km), e um valor real Y representando o total de combustível gasto, com um dígito após o ponto decimal.\n",
    "# \n",
    "# Saída\n",
    "# Apresente o valor que representa o consumo médio do automóvel com 3 casas após a vírgula, seguido da mensagem \"km/l\".\n",
    "\n",
    "\n",
    "X = int(input())\n",
    "Y = float(input())\n",
    "\n",
    "consumo_medio = X / Y\n",
    "\n",
    "print(f\"{consumo_medio:.3f} km/l\")"
   ]
  },
  {
   "cell_type": "code",
   "execution_count": 5,
   "metadata": {},
   "outputs": [
    {
     "name": "stdout",
     "output_type": "stream",
     "text": [
      "4.4721\n"
     ]
    }
   ],
   "source": [
    "# Leia os quatro valores correspondentes aos eixos x e y de dois pontos quaisquer no plano, p1(x1,y1) e p2(x2,y2) e calcule a distância entre eles, mostrando 4 casas decimais, segundo a fórmula:\n",
    "\n",
    "# Distancia =\n",
    "\n",
    "# Entrada\n",
    "# O arquivo de entrada contém duas linhas de dados. A primeira linha contém dois valores de ponto flutuante: x1 y1 e a segunda linha contém dois valores de ponto flutuante x2 y2.\n",
    "\n",
    "# Saída\n",
    "# Calcule e imprima o valor da distância segundo a fórmula fornecida, considerando 4 casas decimais.\n",
    "\n",
    "\n",
    "from math import sqrt\n",
    "linha1 = input().split()\n",
    "linha2 = input().split()\n",
    " \n",
    "\n",
    "X1 = float(linha1[0])\n",
    "Y1 = float(linha1[1])\n",
    "\n",
    "X2 = float(linha2[0])\n",
    "Y2 = float(linha2[1])\n",
    "\n",
    "D = sqrt ((X2 - X1) ** 2 + (Y2 - Y1) ** 2 )\n",
    "\n",
    "print(F\"{D:.4f}\")"
   ]
  },
  {
   "cell_type": "code",
   "execution_count": 7,
   "metadata": {},
   "outputs": [
    {
     "name": "stdout",
     "output_type": "stream",
     "text": [
      "220 minutos\n"
     ]
    }
   ],
   "source": [
    "# Dois carros (X e Y) partem em uma mesma direção. O carro X sai com velocidade constante de 60 Km/h e o carro Y sai com velocidade constante de 90 Km/h.\n",
    "\n",
    "# Em uma hora (60 minutos) o carro Y consegue se distanciar 30 quilômetros do carro X, ou seja, consegue se afastar um quilômetro a cada 2 minutos.\n",
    " \n",
    "# Leia a distância (em Km) e calcule quanto tempo leva (em minutos) para o carro Y tomar essa distância do outro carro.\n",
    " \n",
    "# Entrada\n",
    "# O arquivo de entrada contém um número inteiro.\n",
    " \n",
    "# Saída\n",
    "# Imprima o tempo necessário seguido da mensagem \"minutos\".\n",
    "\n",
    "d = int(input())\n",
    "\n",
    "tempo = d / 0.5\n",
    "\n",
    "print(f\"{int(tempo)} minutos\")\n"
   ]
  },
  {
   "cell_type": "code",
   "execution_count": 3,
   "metadata": {},
   "outputs": [
    {
     "name": "stdout",
     "output_type": "stream",
     "text": [
      "Número\tTipo\n",
      "--------------------\n",
      "5\tInt\n",
      "5.0\tFloat\n",
      "4.3\tFloat\n",
      "-2\tInt\n",
      "100\tInt\n",
      "1.333\tFloat\n",
      "2.5\tFloat\n"
     ]
    }
   ],
   "source": [
    "def check_num(num): #Verifica se um número é Int ou Float.\n",
    "    if isinstance(num, int): \n",
    "        return \"Int\"\n",
    "    else:\n",
    "        return \"Float\"\n",
    "\n",
    "numb = [5, 5.0, 4.3, -2, 100, 1.333, 2.5]\n",
    "print(\"Número\\tTipo\")\n",
    "print(\"--------------------\")\n",
    "for num in numb:\n",
    "    print(f\"{num}\\t{check_num(num)}\")"
   ]
  },
  {
   "cell_type": "code",
   "execution_count": 17,
   "metadata": {},
   "outputs": [
    {
     "name": "stdout",
     "output_type": "stream",
     "text": [
      "| Expressão| Resultado |\n",
      "| ---------| -------   |\n",
      "| a == c   | False     |\n",
      "| a < b    | True      |\n",
      "| d > b    | False     |\n",
      "| c != f-2 | True      |\n",
      "| a == b   | False     |\n",
      "| c < d    | False     |\n",
      "| b > a    | True      |\n",
      "| c >= f   | True      |\n",
      "| f >= c   | True      |\n",
      "| c <= c   | True      |\n",
      "| c <= f   | True      |\n"
     ]
    }
   ],
   "source": [
    "#Questão 02 - Complete a tabela a seguir, respondendo True ou False. Considere: a=4 b=10 c=5.0 d=1 f=5\n",
    "a = 4\n",
    "b = 10\n",
    "c = 5.0\n",
    "d = 1\n",
    "f = 5\n",
    "\n",
    "print(\"| Expressão| Resultado |\")\n",
    "print(\"| ---------| -------   |\")\n",
    "print(f\"| a == c   | {a == c}     |\")\n",
    "print(f\"| a < b    | {a < b}      |\")\n",
    "print(f\"| d > b    | {d > b}     |\")\n",
    "print(f\"| c != f-2 | {c != f-2}      |\")\n",
    "print(f\"| a == b   | {a == b}     |\")\n",
    "print(f\"| c < d    | {c < d}     |\")\n",
    "print(f\"| b > a    | {b > a}      |\")\n",
    "print(f\"| c >= f   | {c >= f}      |\")\n",
    "print(f\"| f >= c   | {f >= c}      |\")\n",
    "print(f\"| c <= c   | {c <= c}      |\")\n",
    "print(f\"| c <= f   | {c <= f}      |\")"
   ]
  },
  {
   "cell_type": "code",
   "execution_count": 28,
   "metadata": {},
   "outputs": [
    {
     "name": "stdout",
     "output_type": "stream",
     "text": [
      "| Expressão| Resultado |\n",
      "| ---------| -------   |\n",
      "| a and a  | True      |\n",
      "| b and b  | False     |\n",
      "| Not c    | False     |\n",
      "| Not b    | True      |\n",
      "| Not a    | False     |\n",
      "| a and b  | False     |\n",
      "| b and c  | False     |\n",
      "| a or c   | True      |\n",
      "| b or c   | True      |\n",
      "| c or a   | True      |\n",
      "| c or b   | True      |\n",
      "| c or c   | True      |\n",
      "| b or b   | False     |\n"
     ]
    }
   ],
   "source": [
    "#Questão 03 - Complete a tabela a seguir, respondendo True ou False. Considere:\n",
    "#a = True b = False c = True\n",
    "\n",
    "a = True\n",
    "b = False\n",
    "c = True\n",
    "\n",
    "print(\"| Expressão| Resultado |\")\n",
    "print(\"| ---------| -------   |\")\n",
    "print(f\"| a and a  | {a and a}      |\")\n",
    "print(f\"| b and b  | {b and b}     |\")\n",
    "print(f\"| Not c    | {not c}     |\")\n",
    "print(f\"| Not b    | {not b}      |\")\n",
    "print(f\"| Not a    | {not a}     |\")\n",
    "print(f\"| a and b  | {a and b}     |\")\n",
    "print(f\"| b and c  | {b and c }     |\")\n",
    "print(f\"| a or c   | {a or c}      |\")\n",
    "print(f\"| b or c   | {b or c}      |\")\n",
    "print(f\"| c or a   | {c or a}      |\")\n",
    "print(f\"| c or b   | {c or b}      |\")\n",
    "print(f\"| c or c   | {c or c}      |\")\n",
    "print(f\"| b or b   | {b or b}     |\")"
   ]
  },
  {
   "cell_type": "code",
   "execution_count": 30,
   "metadata": {},
   "outputs": [
    {
     "name": "stdout",
     "output_type": "stream",
     "text": [
      "Impossível realizar a divisão, pois o segundo número é zero!\n"
     ]
    }
   ],
   "source": [
    "#Desenhe um fluxograma e implemente um programa Python que recebe dois números inteiros e mostre o resultado da divisão deles. Se o segundo número é igual a zero, informe que é impossível \n",
    "#devido à divisão por zero.\n",
    "\n",
    "n1 = int(input(\"Digite o N1\"))\n",
    "n2 = int(input(\"Digite o N2\"))\n",
    "if n2 == 0:\n",
    "    print(\"Impossível realizar a divisão, pois o segundo número é zero!\")\n",
    "else:\n",
    "    print(n1 / n2)\n",
    "\n"
   ]
  },
  {
   "cell_type": "code",
   "execution_count": 4,
   "metadata": {},
   "outputs": [
    {
     "name": "stdout",
     "output_type": "stream",
     "text": [
      "Ele é ímpar! \n"
     ]
    }
   ],
   "source": [
    "#Desenhe um fluxograma e implemente um programa em Python que recebe um número inteiro e informe se é par ou ímpar.\n",
    "N = int(input(\"Digite um número inteiro: \"))\n",
    "if N % 2 == 0: \n",
    "    print('Esse número é par! ') \n",
    "else: print('Ele é ímpar! ')"
   ]
  },
  {
   "cell_type": "code",
   "execution_count": 37,
   "metadata": {},
   "outputs": [
    {
     "name": "stdout",
     "output_type": "stream",
     "text": [
      "Há números repetidos\n"
     ]
    }
   ],
   "source": [
    "#Desenhe um fluxograma e implemente um programa em Python que recebe quatro números reais e informe se há algum repetido ou não.\n",
    "\n",
    "num1 = float(input(\"Digite o num1\"))\n",
    "num2 = float(input(\"Digite o num2\"))\n",
    "num3 = float(input(\"Digite o num3\"))\n",
    "num4 = float(input(\"Digite o num4\"))\n",
    "\n",
    "if num1 == num2 or num1 == num3 or num1 == num4:\n",
    "    print(\"Há números repetidos\")\n",
    "elif num2 == num1 or num2 == num3 or num2 == num4:\n",
    "    print(\"Há números repetidos\")\n",
    "elif num3 == num1 or num3 == num2 or num3 == num4:\n",
    "    print(\"Há números repetidos\")\n",
    "elif num4 == num1 or num4 == num2 or num4 == num3:\n",
    "    print(\"Há números repetidos\")\n",
    "else:\n",
    "    print(\"Não há números repetidos\")\n",
    "\n"
   ]
  }
 ],
 "metadata": {
  "kernelspec": {
   "display_name": "base",
   "language": "python",
   "name": "python3"
  },
  "language_info": {
   "codemirror_mode": {
    "name": "ipython",
    "version": 3
   },
   "file_extension": ".py",
   "mimetype": "text/x-python",
   "name": "python",
   "nbconvert_exporter": "python",
   "pygments_lexer": "ipython3",
   "version": "3.11.7"
  }
 },
 "nbformat": 4,
 "nbformat_minor": 2
}
