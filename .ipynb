{
 "cells": [
  {
   "cell_type": "code",
   "execution_count": 36,
   "metadata": {},
   "outputs": [
    {
     "ename": "ValueError",
     "evalue": "could not convert string to float: ''",
     "output_type": "error",
     "traceback": [
      "\u001b[1;31m---------------------------------------------------------------------------\u001b[0m",
      "\u001b[1;31mValueError\u001b[0m                                Traceback (most recent call last)",
      "Cell \u001b[1;32mIn[36], line 3\u001b[0m\n\u001b[0;32m      1\u001b[0m \u001b[38;5;66;03m# -*- coding: utf-8 -*-#\u001b[39;00m\n\u001b[1;32m----> 3\u001b[0m A \u001b[38;5;241m=\u001b[39m \u001b[38;5;28mfloat\u001b[39m(\u001b[38;5;28minput\u001b[39m())\n\u001b[0;32m      4\u001b[0m B \u001b[38;5;241m=\u001b[39m \u001b[38;5;28mfloat\u001b[39m(\u001b[38;5;28minput\u001b[39m())\n\u001b[0;32m      5\u001b[0m C \u001b[38;5;241m=\u001b[39m \u001b[38;5;28mfloat\u001b[39m(\u001b[38;5;28minput\u001b[39m())\n",
      "\u001b[1;31mValueError\u001b[0m: could not convert string to float: ''"
     ]
    }
   ],
   "source": [
    "# -*- coding: utf-8 -*-#\n",
    "\n",
    "A = float(input())\n",
    "B = float(input())\n",
    "C = float(input())\n",
    "\n",
    "\n",
    "\n",
    "MEDIA = (A*2 + B*3 + C*5) / 10\n",
    "\n",
    "\n",
    "print(f\"MEDIA = {MEDIA:.1f}\")"
   ]
  },
  {
   "cell_type": "markdown",
   "metadata": {},
   "source": [
    "# LEITURA E ESCRITA DE ARQUIVOS"
   ]
  },
  {
   "cell_type": "code",
   "execution_count": 44,
   "metadata": {},
   "outputs": [],
   "source": [
    "f = open('dados_sensor.txt', 'r')\n"
   ]
  },
  {
   "cell_type": "code",
   "execution_count": 49,
   "metadata": {},
   "outputs": [
    {
     "data": {
      "text/plain": [
       "<function TextIOWrapper.close()>"
      ]
     },
     "execution_count": 49,
     "metadata": {},
     "output_type": "execute_result"
    }
   ],
   "source": [
    "linhas = f.readlines()\n",
    "\n",
    "for i, linha in enumerate(linhas):\n",
    "    print(f\"linha: {i}  {linha}\", end='')\n",
    "f.close"
   ]
  },
  {
   "cell_type": "code",
   "execution_count": 48,
   "metadata": {},
   "outputs": [
    {
     "data": {
      "text/plain": [
       "<function TextIOWrapper.close()>"
      ]
     },
     "execution_count": 48,
     "metadata": {},
     "output_type": "execute_result"
    }
   ],
   "source": [
    "arquivo = open(\"meu_arquivo.txt\", 'w')\n",
    "arquivo.write(\"Hello World!\")\n",
    "arquivo.close"
   ]
  },
  {
   "cell_type": "code",
   "execution_count": 51,
   "metadata": {},
   "outputs": [
    {
     "name": "stdout",
     "output_type": "stream",
     "text": [
      "Hello World!\n"
     ]
    }
   ],
   "source": [
    "with open (\"meu_arquivo.txt\", 'r') as f:\n",
    "    conteudo = f.read()\n",
    "    print(conteudo)"
   ]
  },
  {
   "cell_type": "code",
   "execution_count": 52,
   "metadata": {},
   "outputs": [
    {
     "name": "stdout",
     "output_type": "stream",
     "text": [
      "['Data', 'Hora', 'Temperatura']\n",
      "['24/08/01', '00:00', '17.2°C']\n",
      "['24/08/01', '04:00', '17.8°C']\n",
      "['24/08/01', '08:00', '30.0°C']\n",
      "['24/08/01', '12:00', '28.2°C']\n",
      "['24/08/01', '16:00', '22.0°C']\n",
      "['24/08/01', '20:00', '27.1°C']\n",
      "['24/08/02', '00:00', '30.7°C']\n",
      "['24/08/02', '04:00', '32.5°C']\n",
      "['24/08/02', '08:00', '24.7°C']\n",
      "['24/08/02', '12:00', '32.3°C']\n",
      "['24/08/02', '16:00', '34.1°C']\n",
      "['24/08/02', '20:00', '22.5°C']\n",
      "['24/08/03', '00:00', '23.4°C']\n",
      "['24/08/03', '04:00', '26.0°C']\n",
      "['24/08/03', '08:00', '26.5°C']\n",
      "['24/08/03', '12:00', '15.4°C']\n",
      "['24/08/03', '16:00', '17.2°C']\n",
      "['24/08/03', '20:00', '21.3°C']\n",
      "['24/08/04', '00:00', '23.3°C']\n",
      "['24/08/04', '04:00', '24.9°C']\n",
      "['24/08/04', '08:00', '29.4°C']\n",
      "['24/08/04', '12:00', '32.3°C']\n",
      "['24/08/04', '16:00', '28.4°C']\n",
      "['24/08/04', '20:00', '31.4°C']\n",
      "['24/08/05', '00:00', '27.0°C']\n",
      "['24/08/05', '04:00', '26.5°C']\n",
      "['24/08/05', '08:00', '28.1°C']\n",
      "['24/08/05', '12:00', '26.9°C']\n",
      "['24/08/05', '16:00', '25.8°C']\n",
      "['24/08/05', '20:00', '26.3°C']\n",
      "['24/08/06', '00:00', '27.4°C']\n",
      "['24/08/06', '04:00', '15.0°C']\n",
      "['24/08/06', '08:00', '16.3°C']\n",
      "['24/08/06', '12:00', '21.1°C']\n",
      "['24/08/06', '16:00', '32.6°C']\n",
      "['24/08/06', '20:00', '28.2°C']\n",
      "['24/08/07', '00:00', '33.6°C']\n",
      "['24/08/07', '04:00', '33.7°C']\n",
      "['24/08/07', '08:00', '19.3°C']\n",
      "['24/08/07', '12:00', '15.9°C']\n",
      "['24/08/07', '16:00', '24.9°C']\n",
      "['24/08/07', '20:00', '24.8°C']\n",
      "['24/08/08', '00:00', '34.1°C']\n",
      "['24/08/08', '04:00', '22.4°C']\n",
      "['24/08/08', '08:00', '17.5°C']\n",
      "['24/08/08', '12:00', '24.6°C']\n",
      "['24/08/08', '16:00', '33.0°C']\n",
      "['24/08/08', '20:00', '17.5°C']\n",
      "['24/08/09', '00:00', '25.3°C']\n",
      "['24/08/09', '04:00', '32.0°C']\n",
      "['24/08/09', '08:00', '31.4°C']\n",
      "['24/08/09', '12:00', '16.1°C']\n",
      "['24/08/09', '16:00', '19.4°C']\n",
      "['24/08/09', '20:00', '34.8°C']\n",
      "['24/08/10', '00:00', '19.4°C']\n",
      "['24/08/10', '04:00', '16.6°C']\n",
      "['24/08/10', '08:00', '23.6°C']\n",
      "['24/08/10', '12:00', '31.3°C']\n",
      "['24/08/10', '16:00', '19.9°C']\n",
      "['24/08/10', '20:00', '31.7°C']\n",
      "['24/08/11', '00:00', '16.1°C']\n",
      "['24/08/11', '04:00', '34.5°C']\n",
      "['24/08/11', '08:00', '20.5°C']\n",
      "['24/08/11', '12:00', '23.5°C']\n",
      "['24/08/11', '16:00', '17.4°C']\n",
      "['24/08/11', '20:00', '28.3°C']\n",
      "['24/08/12', '00:00', '22.2°C']\n",
      "['24/08/12', '04:00', '20.5°C']\n",
      "['24/08/12', '08:00', '19.7°C']\n",
      "['24/08/12', '12:00', '31.5°C']\n",
      "['24/08/12', '16:00', '27.2°C']\n",
      "['24/08/12', '20:00', '34.1°C']\n",
      "['24/08/13', '00:00', '30.3°C']\n",
      "['24/08/13', '04:00', '31.4°C']\n",
      "['24/08/13', '08:00', '28.9°C']\n",
      "['24/08/13', '12:00', '21.0°C']\n",
      "['24/08/13', '16:00', '15.3°C']\n",
      "['24/08/13', '20:00', '31.7°C']\n",
      "['24/08/14', '00:00', '25.8°C']\n",
      "['24/08/14', '04:00', '29.2°C']\n",
      "['24/08/14', '08:00', '34.7°C']\n",
      "['24/08/14', '12:00', '31.6°C']\n",
      "['24/08/14', '16:00', '33.8°C']\n",
      "['24/08/14', '20:00', '28.5°C']\n",
      "['24/08/15', '00:00', '25.8°C']\n",
      "['24/08/15', '04:00', '18.8°C']\n",
      "['24/08/15', '08:00', '23.7°C']\n",
      "['24/08/15', '12:00', '28.7°C']\n",
      "['24/08/15', '16:00', '24.3°C']\n",
      "['24/08/15', '20:00', '15.7°C']\n",
      "['24/08/16', '00:00', '20.8°C']\n",
      "['24/08/16', '04:00', '19.8°C']\n",
      "['24/08/16', '08:00', '15.1°C']\n",
      "['24/08/16', '12:00', '19.8°C']\n",
      "['24/08/16', '16:00', '30.9°C']\n",
      "['24/08/16', '20:00', '25.3°C']\n",
      "['24/08/17', '00:00', '15.4°C']\n",
      "['24/08/17', '04:00', '21.2°C']\n",
      "['24/08/17', '08:00', '24.7°C']\n",
      "['24/08/17', '12:00', '34.4°C']\n",
      "['24/08/17', '16:00', '28.3°C']\n",
      "['24/08/17', '20:00', '26.2°C']\n",
      "['24/08/18', '00:00', '22.3°C']\n",
      "['24/08/18', '04:00', '31.4°C']\n",
      "['24/08/18', '08:00', '17.3°C']\n",
      "['24/08/18', '12:00', '33.5°C']\n",
      "['24/08/18', '16:00', '23.9°C']\n",
      "['24/08/18', '20:00', '18.3°C']\n",
      "['24/08/19', '00:00', '15.6°C']\n",
      "['24/08/19', '04:00', '29.9°C']\n",
      "['24/08/19', '08:00', '25.4°C']\n",
      "['24/08/19', '12:00', '24.9°C']\n",
      "['24/08/19', '16:00', '24.6°C']\n",
      "['24/08/19', '20:00', '28.6°C']\n",
      "['24/08/20', '00:00', '22.6°C']\n",
      "['24/08/20', '04:00', '28.7°C']\n",
      "['24/08/20', '08:00', '19.4°C']\n",
      "['24/08/20', '12:00', '31.1°C']\n",
      "['24/08/20', '16:00', '26.6°C']\n",
      "['24/08/20', '20:00', '22.1°C']\n",
      "['24/08/21', '00:00', '34.3°C']\n",
      "['24/08/21', '04:00', '34.0°C']\n",
      "['24/08/21', '08:00', '30.2°C']\n",
      "['24/08/21', '12:00', '20.1°C']\n",
      "['24/08/21', '16:00', '22.5°C']\n",
      "['24/08/21', '20:00', '24.8°C']\n",
      "['24/08/22', '00:00', '23.6°C']\n",
      "['24/08/22', '04:00', '30.4°C']\n",
      "['24/08/22', '08:00', '25.3°C']\n",
      "['24/08/22', '12:00', '23.0°C']\n",
      "['24/08/22', '16:00', '30.1°C']\n",
      "['24/08/22', '20:00', '15.8°C']\n",
      "['24/08/23', '00:00', '19.9°C']\n",
      "['24/08/23', '04:00', '16.0°C']\n",
      "['24/08/23', '08:00', '18.3°C']\n",
      "['24/08/23', '12:00', '17.9°C']\n",
      "['24/08/23', '16:00', '18.1°C']\n",
      "['24/08/23', '20:00', '32.5°C']\n",
      "['24/08/24', '00:00', '18.4°C']\n",
      "['24/08/24', '04:00', '21.5°C']\n",
      "['24/08/24', '08:00', '17.9°C']\n",
      "['24/08/24', '12:00', '26.1°C']\n",
      "['24/08/24', '16:00', '15.2°C']\n",
      "['24/08/24', '20:00', '26.0°C']\n",
      "['24/08/25', '00:00', '20.0°C']\n",
      "['24/08/25', '04:00', '31.6°C']\n",
      "['24/08/25', '08:00', '23.5°C']\n",
      "['24/08/25', '12:00', '26.6°C']\n",
      "['24/08/25', '16:00', '18.3°C']\n",
      "['24/08/25', '20:00', '30.9°C']\n",
      "['24/08/26', '00:00', '33.2°C']\n",
      "['24/08/26', '04:00', '33.7°C']\n",
      "['24/08/26', '08:00', '17.9°C']\n",
      "['24/08/26', '12:00', '30.6°C']\n",
      "['24/08/26', '16:00', '15.1°C']\n",
      "['24/08/26', '20:00', '23.5°C']\n",
      "['24/08/27', '00:00', '26.8°C']\n",
      "['24/08/27', '04:00', '18.3°C']\n",
      "['24/08/27', '08:00', '25.8°C']\n",
      "['24/08/27', '12:00', '16.6°C']\n",
      "['24/08/27', '16:00', '21.9°C']\n",
      "['24/08/27', '20:00', '27.7°C']\n",
      "['24/08/28', '00:00', '19.6°C']\n",
      "['24/08/28', '04:00', '25.6°C']\n",
      "['24/08/28', '08:00', '15.2°C']\n",
      "['24/08/28', '12:00', '23.0°C']\n",
      "['24/08/28', '16:00', '24.5°C']\n",
      "['24/08/28', '20:00', '16.1°C']\n",
      "['24/08/29', '00:00', '26.2°C']\n",
      "['24/08/29', '04:00', '23.3°C']\n",
      "['24/08/29', '08:00', '23.0°C']\n",
      "['24/08/29', '12:00', '17.3°C']\n",
      "['24/08/29', '16:00', '21.7°C']\n",
      "['24/08/29', '20:00', '32.8°C']\n",
      "['24/08/30', '00:00', '23.3°C']\n",
      "['24/08/30', '04:00', '20.6°C']\n",
      "['24/08/30', '08:00', '22.5°C']\n",
      "['24/08/30', '12:00', '30.3°C']\n",
      "['24/08/30', '16:00', '27.2°C']\n",
      "['24/08/30', '20:00', '25.9°C']\n",
      "['24/08/31', '00:00', '25.8°C']\n",
      "['24/08/31', '04:00', '31.3°C']\n",
      "['24/08/31', '08:00', '23.9°C']\n",
      "['24/08/31', '12:00', '30.5°C']\n",
      "['24/08/31', '16:00', '26.6°C']\n",
      "['24/08/31', '20:00', '26.3°C']\n"
     ]
    }
   ],
   "source": [
    "import csv\n",
    "\n",
    "with open('dados_sensor.csv', newline='') as csvfile:\n",
    "    leitor = csv.reader(csvfile)\n",
    "    for linha in leitor:\n",
    "        print(linha)"
   ]
  },
  {
   "cell_type": "code",
   "execution_count": 59,
   "metadata": {},
   "outputs": [
    {
     "name": "stdout",
     "output_type": "stream",
     "text": [
      "Requirement already satisfied: pandas in c:\\users\\ryzen 5\\anaconda3\\lib\\site-packages (2.1.4)\n",
      "Requirement already satisfied: numpy<2,>=1.23.2 in c:\\users\\ryzen 5\\anaconda3\\lib\\site-packages (from pandas) (1.26.4)\n",
      "Requirement already satisfied: python-dateutil>=2.8.2 in c:\\users\\ryzen 5\\anaconda3\\lib\\site-packages (from pandas) (2.8.2)\n",
      "Requirement already satisfied: pytz>=2020.1 in c:\\users\\ryzen 5\\anaconda3\\lib\\site-packages (from pandas) (2023.3.post1)\n",
      "Requirement already satisfied: tzdata>=2022.1 in c:\\users\\ryzen 5\\anaconda3\\lib\\site-packages (from pandas) (2023.3)\n",
      "Requirement already satisfied: six>=1.5 in c:\\users\\ryzen 5\\anaconda3\\lib\\site-packages (from python-dateutil>=2.8.2->pandas) (1.16.0)\n"
     ]
    }
   ],
   "source": [
    "!pip install pandas"
   ]
  },
  {
   "cell_type": "code",
   "execution_count": 63,
   "metadata": {},
   "outputs": [
    {
     "data": {
      "text/html": [
       "<div>\n",
       "<style scoped>\n",
       "    .dataframe tbody tr th:only-of-type {\n",
       "        vertical-align: middle;\n",
       "    }\n",
       "\n",
       "    .dataframe tbody tr th {\n",
       "        vertical-align: top;\n",
       "    }\n",
       "\n",
       "    .dataframe thead th {\n",
       "        text-align: right;\n",
       "    }\n",
       "</style>\n",
       "<table border=\"1\" class=\"dataframe\">\n",
       "  <thead>\n",
       "    <tr style=\"text-align: right;\">\n",
       "      <th></th>\n",
       "      <th>Nome</th>\n",
       "      <th>Filhos</th>\n",
       "      <th>Cidade</th>\n",
       "      <th>Nascimento</th>\n",
       "    </tr>\n",
       "  </thead>\n",
       "  <tbody>\n",
       "    <tr>\n",
       "      <th>0</th>\n",
       "      <td>Marcia</td>\n",
       "      <td>0</td>\n",
       "      <td>São Paulo</td>\n",
       "      <td>2002-11-01</td>\n",
       "    </tr>\n",
       "    <tr>\n",
       "      <th>1</th>\n",
       "      <td>Joaoquin</td>\n",
       "      <td>3</td>\n",
       "      <td>Porto Alegre</td>\n",
       "      <td>1990-03-06</td>\n",
       "    </tr>\n",
       "    <tr>\n",
       "      <th>2</th>\n",
       "      <td>Lucas</td>\n",
       "      <td>1</td>\n",
       "      <td>Belo Horizonte</td>\n",
       "      <td>1995-04-29</td>\n",
       "    </tr>\n",
       "    <tr>\n",
       "      <th>3</th>\n",
       "      <td>Ester</td>\n",
       "      <td>1</td>\n",
       "      <td>Brasília</td>\n",
       "      <td>2000-01-10</td>\n",
       "    </tr>\n",
       "    <tr>\n",
       "      <th>4</th>\n",
       "      <td>Gabriel</td>\n",
       "      <td>0</td>\n",
       "      <td>Maceió</td>\n",
       "      <td>1999-10-09</td>\n",
       "    </tr>\n",
       "  </tbody>\n",
       "</table>\n",
       "</div>"
      ],
      "text/plain": [
       "       Nome  Filhos          Cidade  Nascimento\n",
       "0    Marcia       0       São Paulo  2002-11-01\n",
       "1  Joaoquin       3    Porto Alegre  1990-03-06\n",
       "2     Lucas       1  Belo Horizonte  1995-04-29\n",
       "3     Ester       1        Brasília  2000-01-10\n",
       "4   Gabriel       0          Maceió  1999-10-09"
      ]
     },
     "execution_count": 63,
     "metadata": {},
     "output_type": "execute_result"
    }
   ],
   "source": [
    "data = {\n",
    "    'Nome'       : ['Marcia', 'Joaoquin', 'Lucas', 'Ester', 'Gabriel'],\n",
    "    'Filhos'     : [0, 3, 1, 1, 0],\n",
    "    'Cidade'     : ['São Paulo', 'Porto Alegre', 'Belo Horizonte', 'Brasília', 'Maceió'],\n",
    "    'Nascimento' : ['2002-11-01', '1990-03-06', '1995-04-29', '2000-01-10', '1999-10-09'],\n",
    "}\n",
    "\n",
    "import pandas as pd\n",
    "df = pd.DataFrame(data)\n",
    "df"
   ]
  },
  {
   "cell_type": "code",
   "execution_count": 64,
   "metadata": {},
   "outputs": [
    {
     "data": {
      "text/html": [
       "<div>\n",
       "<style scoped>\n",
       "    .dataframe tbody tr th:only-of-type {\n",
       "        vertical-align: middle;\n",
       "    }\n",
       "\n",
       "    .dataframe tbody tr th {\n",
       "        vertical-align: top;\n",
       "    }\n",
       "\n",
       "    .dataframe thead th {\n",
       "        text-align: right;\n",
       "    }\n",
       "</style>\n",
       "<table border=\"1\" class=\"dataframe\">\n",
       "  <thead>\n",
       "    <tr style=\"text-align: right;\">\n",
       "      <th></th>\n",
       "      <th>Nome</th>\n",
       "      <th>Filhos</th>\n",
       "      <th>Cidade</th>\n",
       "      <th>Nascimento</th>\n",
       "    </tr>\n",
       "  </thead>\n",
       "  <tbody>\n",
       "    <tr>\n",
       "      <th>0</th>\n",
       "      <td>Marcia</td>\n",
       "      <td>0</td>\n",
       "      <td>São Paulo</td>\n",
       "      <td>2002-11-01</td>\n",
       "    </tr>\n",
       "    <tr>\n",
       "      <th>1</th>\n",
       "      <td>Joaoquin</td>\n",
       "      <td>3</td>\n",
       "      <td>Porto Alegre</td>\n",
       "      <td>1990-03-06</td>\n",
       "    </tr>\n",
       "  </tbody>\n",
       "</table>\n",
       "</div>"
      ],
      "text/plain": [
       "       Nome  Filhos        Cidade  Nascimento\n",
       "0    Marcia       0     São Paulo  2002-11-01\n",
       "1  Joaoquin       3  Porto Alegre  1990-03-06"
      ]
     },
     "execution_count": 64,
     "metadata": {},
     "output_type": "execute_result"
    }
   ],
   "source": [
    "df.head(n=2)"
   ]
  },
  {
   "cell_type": "code",
   "execution_count": 65,
   "metadata": {},
   "outputs": [
    {
     "data": {
      "text/html": [
       "<div>\n",
       "<style scoped>\n",
       "    .dataframe tbody tr th:only-of-type {\n",
       "        vertical-align: middle;\n",
       "    }\n",
       "\n",
       "    .dataframe tbody tr th {\n",
       "        vertical-align: top;\n",
       "    }\n",
       "\n",
       "    .dataframe thead th {\n",
       "        text-align: right;\n",
       "    }\n",
       "</style>\n",
       "<table border=\"1\" class=\"dataframe\">\n",
       "  <thead>\n",
       "    <tr style=\"text-align: right;\">\n",
       "      <th></th>\n",
       "      <th>Nome</th>\n",
       "      <th>Filhos</th>\n",
       "      <th>Cidade</th>\n",
       "      <th>Nascimento</th>\n",
       "    </tr>\n",
       "  </thead>\n",
       "  <tbody>\n",
       "    <tr>\n",
       "      <th>3</th>\n",
       "      <td>Ester</td>\n",
       "      <td>1</td>\n",
       "      <td>Brasília</td>\n",
       "      <td>2000-01-10</td>\n",
       "    </tr>\n",
       "    <tr>\n",
       "      <th>4</th>\n",
       "      <td>Gabriel</td>\n",
       "      <td>0</td>\n",
       "      <td>Maceió</td>\n",
       "      <td>1999-10-09</td>\n",
       "    </tr>\n",
       "  </tbody>\n",
       "</table>\n",
       "</div>"
      ],
      "text/plain": [
       "      Nome  Filhos    Cidade  Nascimento\n",
       "3    Ester       1  Brasília  2000-01-10\n",
       "4  Gabriel       0    Maceió  1999-10-09"
      ]
     },
     "execution_count": 65,
     "metadata": {},
     "output_type": "execute_result"
    }
   ],
   "source": [
    "df.tail(n=2)"
   ]
  },
  {
   "cell_type": "code",
   "execution_count": 66,
   "metadata": {},
   "outputs": [
    {
     "data": {
      "text/plain": [
       "Nome          object\n",
       "Filhos         int64\n",
       "Cidade        object\n",
       "Nascimento    object\n",
       "dtype: object"
      ]
     },
     "execution_count": 66,
     "metadata": {},
     "output_type": "execute_result"
    }
   ],
   "source": [
    "df.dtypes"
   ]
  },
  {
   "cell_type": "markdown",
   "metadata": {},
   "source": [
    "# Aula 4 modulo 3 TRABALHANDO COM ARQUIVOS CSV, EXCEL E OUTROS FORMATOS."
   ]
  },
  {
   "cell_type": "code",
   "execution_count": 72,
   "metadata": {},
   "outputs": [
    {
     "data": {
      "text/html": [
       "<div>\n",
       "<style scoped>\n",
       "    .dataframe tbody tr th:only-of-type {\n",
       "        vertical-align: middle;\n",
       "    }\n",
       "\n",
       "    .dataframe tbody tr th {\n",
       "        vertical-align: top;\n",
       "    }\n",
       "\n",
       "    .dataframe thead th {\n",
       "        text-align: right;\n",
       "    }\n",
       "</style>\n",
       "<table border=\"1\" class=\"dataframe\">\n",
       "  <thead>\n",
       "    <tr style=\"text-align: right;\">\n",
       "      <th></th>\n",
       "      <th>Data</th>\n",
       "      <th>Hora</th>\n",
       "      <th>Temperatura</th>\n",
       "    </tr>\n",
       "  </thead>\n",
       "  <tbody>\n",
       "    <tr>\n",
       "      <th>0</th>\n",
       "      <td>24/08/01</td>\n",
       "      <td>00:00</td>\n",
       "      <td>17.2°C</td>\n",
       "    </tr>\n",
       "    <tr>\n",
       "      <th>1</th>\n",
       "      <td>24/08/01</td>\n",
       "      <td>04:00</td>\n",
       "      <td>17.8°C</td>\n",
       "    </tr>\n",
       "    <tr>\n",
       "      <th>2</th>\n",
       "      <td>24/08/01</td>\n",
       "      <td>08:00</td>\n",
       "      <td>30.0°C</td>\n",
       "    </tr>\n",
       "    <tr>\n",
       "      <th>3</th>\n",
       "      <td>24/08/01</td>\n",
       "      <td>12:00</td>\n",
       "      <td>28.2°C</td>\n",
       "    </tr>\n",
       "    <tr>\n",
       "      <th>4</th>\n",
       "      <td>24/08/01</td>\n",
       "      <td>16:00</td>\n",
       "      <td>22.0°C</td>\n",
       "    </tr>\n",
       "    <tr>\n",
       "      <th>...</th>\n",
       "      <td>...</td>\n",
       "      <td>...</td>\n",
       "      <td>...</td>\n",
       "    </tr>\n",
       "    <tr>\n",
       "      <th>181</th>\n",
       "      <td>24/08/31</td>\n",
       "      <td>04:00</td>\n",
       "      <td>31.3°C</td>\n",
       "    </tr>\n",
       "    <tr>\n",
       "      <th>182</th>\n",
       "      <td>24/08/31</td>\n",
       "      <td>08:00</td>\n",
       "      <td>23.9°C</td>\n",
       "    </tr>\n",
       "    <tr>\n",
       "      <th>183</th>\n",
       "      <td>24/08/31</td>\n",
       "      <td>12:00</td>\n",
       "      <td>30.5°C</td>\n",
       "    </tr>\n",
       "    <tr>\n",
       "      <th>184</th>\n",
       "      <td>24/08/31</td>\n",
       "      <td>16:00</td>\n",
       "      <td>26.6°C</td>\n",
       "    </tr>\n",
       "    <tr>\n",
       "      <th>185</th>\n",
       "      <td>24/08/31</td>\n",
       "      <td>20:00</td>\n",
       "      <td>26.3°C</td>\n",
       "    </tr>\n",
       "  </tbody>\n",
       "</table>\n",
       "<p>186 rows × 3 columns</p>\n",
       "</div>"
      ],
      "text/plain": [
       "         Data   Hora Temperatura\n",
       "0    24/08/01  00:00      17.2°C\n",
       "1    24/08/01  04:00      17.8°C\n",
       "2    24/08/01  08:00      30.0°C\n",
       "3    24/08/01  12:00      28.2°C\n",
       "4    24/08/01  16:00      22.0°C\n",
       "..        ...    ...         ...\n",
       "181  24/08/31  04:00      31.3°C\n",
       "182  24/08/31  08:00      23.9°C\n",
       "183  24/08/31  12:00      30.5°C\n",
       "184  24/08/31  16:00      26.6°C\n",
       "185  24/08/31  20:00      26.3°C\n",
       "\n",
       "[186 rows x 3 columns]"
      ]
     },
     "execution_count": 72,
     "metadata": {},
     "output_type": "execute_result"
    }
   ],
   "source": [
    "df2 = pd.read_csv('dados_sensor.csv')\n",
    "df2"
   ]
  },
  {
   "cell_type": "code",
   "execution_count": 73,
   "metadata": {},
   "outputs": [
    {
     "data": {
      "text/html": [
       "<div>\n",
       "<style scoped>\n",
       "    .dataframe tbody tr th:only-of-type {\n",
       "        vertical-align: middle;\n",
       "    }\n",
       "\n",
       "    .dataframe tbody tr th {\n",
       "        vertical-align: top;\n",
       "    }\n",
       "\n",
       "    .dataframe thead th {\n",
       "        text-align: right;\n",
       "    }\n",
       "</style>\n",
       "<table border=\"1\" class=\"dataframe\">\n",
       "  <thead>\n",
       "    <tr style=\"text-align: right;\">\n",
       "      <th></th>\n",
       "      <th>Data</th>\n",
       "      <th>Hora</th>\n",
       "      <th>Temperatura</th>\n",
       "    </tr>\n",
       "  </thead>\n",
       "  <tbody>\n",
       "    <tr>\n",
       "      <th>0</th>\n",
       "      <td>24/08/01</td>\n",
       "      <td>00:00</td>\n",
       "      <td>17.2°C</td>\n",
       "    </tr>\n",
       "    <tr>\n",
       "      <th>1</th>\n",
       "      <td>24/08/01</td>\n",
       "      <td>04:00</td>\n",
       "      <td>17.8°C</td>\n",
       "    </tr>\n",
       "    <tr>\n",
       "      <th>2</th>\n",
       "      <td>24/08/01</td>\n",
       "      <td>08:00</td>\n",
       "      <td>30.0°C</td>\n",
       "    </tr>\n",
       "  </tbody>\n",
       "</table>\n",
       "</div>"
      ],
      "text/plain": [
       "       Data   Hora Temperatura\n",
       "0  24/08/01  00:00      17.2°C\n",
       "1  24/08/01  04:00      17.8°C\n",
       "2  24/08/01  08:00      30.0°C"
      ]
     },
     "execution_count": 73,
     "metadata": {},
     "output_type": "execute_result"
    }
   ],
   "source": [
    "df2.head(3)"
   ]
  },
  {
   "cell_type": "code",
   "execution_count": null,
   "metadata": {},
   "outputs": [],
   "source": []
  }
 ],
 "metadata": {
  "kernelspec": {
   "display_name": "base",
   "language": "python",
   "name": "python3"
  },
  "language_info": {
   "codemirror_mode": {
    "name": "ipython",
    "version": 3
   },
   "file_extension": ".py",
   "mimetype": "text/x-python",
   "name": "python",
   "nbconvert_exporter": "python",
   "pygments_lexer": "ipython3",
   "version": "3.11.7"
  }
 },
 "nbformat": 4,
 "nbformat_minor": 2
}
